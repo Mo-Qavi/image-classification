{
 "cells": [
  {
   "cell_type": "code",
   "execution_count": 4,
   "id": "twenty-volume",
   "metadata": {
    "collapsed": true
   },
   "outputs": [
    {
     "name": "stdout",
     "output_type": "stream",
     "text": [
      "Collecting scikit-image"
     ]
    },
    {
     "name": "stderr",
     "output_type": "stream",
     "text": [
      "WARNING: You are using pip version 21.2.1; however, version 21.2.4 is available.\n",
      "You should consider upgrading via the 'c:\\users\\dear user\\anaconda\\anaconda3\\python.exe -m pip install --upgrade pip' command.\n"
     ]
    },
    {
     "name": "stdout",
     "output_type": "stream",
     "text": [
      "\n",
      "  Downloading scikit_image-0.18.3-cp37-cp37m-win_amd64.whl (12.1 MB)\n",
      "Collecting tifffile>=2019.7.26\n",
      "  Downloading tifffile-2021.8.30-py3-none-any.whl (171 kB)\n",
      "Requirement already satisfied: numpy>=1.16.5 in c:\\users\\dear user\\anaconda\\anaconda3\\lib\\site-packages (from scikit-image) (1.19.0)\n",
      "Requirement already satisfied: scipy>=1.0.1 in c:\\users\\dear user\\anaconda\\anaconda3\\lib\\site-packages (from scikit-image) (1.6.1)\n",
      "Requirement already satisfied: networkx>=2.0 in c:\\users\\dear user\\anaconda\\anaconda3\\lib\\site-packages (from scikit-image) (2.5)\n",
      "Requirement already satisfied: pillow!=7.1.0,!=7.1.1,>=4.3.0 in c:\\users\\dear user\\anaconda\\anaconda3\\lib\\site-packages (from scikit-image) (8.1.2)\n",
      "Requirement already satisfied: matplotlib!=3.0.0,>=2.0.0 in c:\\users\\dear user\\anaconda\\anaconda3\\lib\\site-packages (from scikit-image) (3.4.2)\n",
      "Collecting imageio>=2.3.0\n",
      "  Downloading imageio-2.9.0-py3-none-any.whl (3.3 MB)\n",
      "Collecting PyWavelets>=1.1.1\n",
      "  Using cached PyWavelets-1.1.1-cp37-cp37m-win_amd64.whl (4.2 MB)\n",
      "Requirement already satisfied: cycler>=0.10 in c:\\users\\dear user\\anaconda\\anaconda3\\lib\\site-packages (from matplotlib!=3.0.0,>=2.0.0->scikit-image) (0.10.0)\n",
      "Requirement already satisfied: pyparsing>=2.2.1 in c:\\users\\dear user\\anaconda\\anaconda3\\lib\\site-packages (from matplotlib!=3.0.0,>=2.0.0->scikit-image) (2.4.7)\n",
      "Requirement already satisfied: kiwisolver>=1.0.1 in c:\\users\\dear user\\anaconda\\anaconda3\\lib\\site-packages (from matplotlib!=3.0.0,>=2.0.0->scikit-image) (1.3.1)\n",
      "Requirement already satisfied: python-dateutil>=2.7 in c:\\users\\dear user\\appdata\\roaming\\python\\python37\\site-packages (from matplotlib!=3.0.0,>=2.0.0->scikit-image) (2.8.1)\n",
      "Requirement already satisfied: six in c:\\users\\dear user\\appdata\\roaming\\python\\python37\\site-packages (from cycler>=0.10->matplotlib!=3.0.0,>=2.0.0->scikit-image) (1.15.0)\n",
      "Requirement already satisfied: decorator>=4.3.0 in c:\\users\\dear user\\appdata\\roaming\\python\\python37\\site-packages (from networkx>=2.0->scikit-image) (5.0.5)\n",
      "Installing collected packages: tifffile, PyWavelets, imageio, scikit-image\n",
      "Successfully installed PyWavelets-1.1.1 imageio-2.9.0 scikit-image-0.18.3 tifffile-2021.8.30\n"
     ]
    }
   ],
   "source": [
    "! pip install scikit-image"
   ]
  },
  {
   "cell_type": "code",
   "execution_count": 142,
   "id": "expected-thompson",
   "metadata": {},
   "outputs": [],
   "source": [
    "import cv2\n",
    "import numpy as np\n",
    "import matplotlib.pyplot as plt\n",
    "from skimage import feature\n",
    "from sklearn.preprocessing import MinMaxScaler\n",
    "from sklearn.svm import SVC\n",
    "from sklearn.model_selection import GridSearchCV, cross_val_score\n",
    "from sklearn.metrics import classification_report, confusion_matrix\n",
    "import glob\n",
    "from skimage import img_as_ubyte\n",
    "from tqdm.notebook import tqdm\n",
    "from sklearn.model_selection import train_test_split\n",
    "import pickle\n",
    "import random\n",
    "from skimage.feature import hog\n",
    "from skimage import data, exposure\n",
    "from sklearn.decomposition import PCA \n",
    "from skimage.feature import greycomatrix, greycoprops"
   ]
  },
  {
   "cell_type": "code",
   "execution_count": 2,
   "id": "spare-illinois",
   "metadata": {},
   "outputs": [
    {
     "data": {
      "application/vnd.jupyter.widget-view+json": {
       "model_id": "f9b60ac5dd3a4479ba82f22a5b663669",
       "version_major": 2,
       "version_minor": 0
      },
      "text/plain": [
       "  0%|          | 0/4000 [00:00<?, ?it/s]"
      ]
     },
     "metadata": {},
     "output_type": "display_data"
    }
   ],
   "source": [
    "path = r'C:\\folder\\BOOT Camp\\computer vision\\04, Fourier transform\\GENKI-R2009a\\GENKI-R2009a\\Subsets\\GENKI-4K.txt\\files\\*.*'\n",
    "SIZE = 120\n",
    "images_list = [cv2.resize(cv2.imread(file, 0), (SIZE, SIZE)) for file in tqdm(glob.glob(path))] "
   ]
  },
  {
   "cell_type": "code",
   "execution_count": 99,
   "id": "steady-state",
   "metadata": {},
   "outputs": [],
   "source": [
    "def lbf_feature(img, redius=1, sampling_pixels=8):\n",
    "    \n",
    "    # Compute LBP\n",
    "    lbp = feature.local_binary_pattern(img, redius, sampling_pixels, method='uniform')\n",
    "    \n",
    "    return lbp.ravel()"
   ]
  },
  {
   "cell_type": "code",
   "execution_count": 100,
   "id": "guilty-privacy",
   "metadata": {},
   "outputs": [],
   "source": [
    "def hog_feature(img):\n",
    "    \n",
    "    # Compute HOG\n",
    "    hog_ =  hog(img, orientations=8, pixels_per_cell=(16, 16),cells_per_block=(1, 1))\n",
    "    return hog_"
   ]
  },
  {
   "cell_type": "code",
   "execution_count": 146,
   "id": "electric-reaction",
   "metadata": {},
   "outputs": [
    {
     "data": {
      "text/plain": [
       "(120, 120)"
      ]
     },
     "execution_count": 146,
     "metadata": {},
     "output_type": "execute_result"
    }
   ],
   "source": [
    "images_list[0].shape"
   ]
  },
  {
   "cell_type": "code",
   "execution_count": 165,
   "id": "single-minority",
   "metadata": {},
   "outputs": [],
   "source": [
    "math = [\n",
    "    'contrast'\n",
    "    'dissimilarity'\n",
    "    'homogeneity'\n",
    "    'ASM'\n",
    "    'energy'\n",
    "    'correlation'\n",
    "    ]\n",
    "\n",
    "def glcm_feature(img):\n",
    "    glcm = greycomatrix(img, distances=[5], angles=[0], levels=256,\n",
    "                            symmetric=True, normed=True)\n",
    "    return greycoprops(glcm, 'dissimilarity')\n",
    "#     \n",
    "\n"
   ]
  },
  {
   "cell_type": "code",
   "execution_count": 166,
   "id": "forty-montreal",
   "metadata": {},
   "outputs": [],
   "source": [
    "def iterator(functions, _iter):\n",
    "\n",
    "    develope = _iter\n",
    "    for func in tqdm(functions):\n",
    "        develope = np.array(list(map(lambda element: eval(func), develope)))\n",
    "        \n",
    "    return develope"
   ]
  },
  {
   "cell_type": "code",
   "execution_count": 168,
   "id": "steady-safety",
   "metadata": {},
   "outputs": [
    {
     "data": {
      "application/vnd.jupyter.widget-view+json": {
       "model_id": "edd44a0efa5b489e8459c98d3f2d2238",
       "version_major": 2,
       "version_minor": 0
      },
      "text/plain": [
       "  0%|          | 0/3 [00:00<?, ?it/s]"
      ]
     },
     "metadata": {},
     "output_type": "display_data"
    },
    {
     "data": {
      "application/vnd.jupyter.widget-view+json": {
       "model_id": "79163b347e164d4aa9bacd5102a53ebf",
       "version_major": 2,
       "version_minor": 0
      },
      "text/plain": [
       "  0%|          | 0/3 [00:00<?, ?it/s]"
      ]
     },
     "metadata": {},
     "output_type": "display_data"
    },
    {
     "data": {
      "application/vnd.jupyter.widget-view+json": {
       "model_id": "d1f00cee7d33493fb80608485fbe79d4",
       "version_major": 2,
       "version_minor": 0
      },
      "text/plain": [
       "  0%|          | 0/3 [00:00<?, ?it/s]"
      ]
     },
     "metadata": {},
     "output_type": "display_data"
    }
   ],
   "source": [
    "image_arrays = np.array(images_list)\n",
    "lbf_hist = iterator(['cv2.GaussianBlur(element, (3, 3), cv2.BORDER_DEFAULT)',\n",
    "                                   'cv2.createCLAHE(clipLimit=2.0,tileGridSize=(8,8)).apply(element)',\n",
    "                                   'lbf_feature(element)'], image_arrays) \n",
    "\n",
    "\n",
    "\n",
    "hog_f = iterator(['cv2.GaussianBlur(element, (3, 3), cv2.BORDER_DEFAULT)',\n",
    "                                   'cv2.createCLAHE(clipLimit=2.0,tileGridSize=(8,8)).apply(element)',\n",
    "                                   'hog_feature(element)'], image_arrays) \n",
    "\n",
    "glcm_f = iterator(['cv2.GaussianBlur(element, (3, 3), cv2.BORDER_DEFAULT)',\n",
    "                                   'cv2.createCLAHE(clipLimit=2.0,tileGridSize=(8,8)).apply(element)',\n",
    "                                   'glcm_feature(element)'], image_arrays)"
   ]
  },
  {
   "cell_type": "code",
   "execution_count": 174,
   "id": "diagnostic-prague",
   "metadata": {},
   "outputs": [],
   "source": [
    "glcm_f.shape = (4000,1)"
   ]
  },
  {
   "cell_type": "code",
   "execution_count": 105,
   "id": "sustained-attendance",
   "metadata": {},
   "outputs": [],
   "source": [
    "path = r'C:\\folder\\BOOT Camp\\computer vision\\04, Fourier transform\\GENKI-R2009a\\GENKI-R2009a\\Subsets\\GENKI-4K.txt\\GENKI-4K_Labels.txt'\n",
    "\n",
    "with open(path, 'r') as Labels_file:\n",
    "    labels = list(map(lambda lin: lin[0], Labels_file.readlines()))\n"
   ]
  },
  {
   "cell_type": "code",
   "execution_count": 175,
   "id": "infrared-gasoline",
   "metadata": {},
   "outputs": [],
   "source": [
    "X_train =  np.concatenate([PCA(n_components=100).fit_transform(i) for i in [lbf_hist, hog_f]]+[glcm_f], axis=1)\n",
    "y_train = np.array(labels)\n",
    "\n",
    "data = [X_train, y_train]"
   ]
  },
  {
   "cell_type": "code",
   "execution_count": 176,
   "id": "circular-hello",
   "metadata": {},
   "outputs": [],
   "source": [
    "with open('data.pickle', 'wb') as pickle_file:\n",
    "    pickle.dump(data, pickle_file)"
   ]
  },
  {
   "cell_type": "code",
   "execution_count": 177,
   "id": "sitting-model",
   "metadata": {},
   "outputs": [],
   "source": [
    "with open('data.pickle', 'rb') as pickle_file:\n",
    "    data = pickle.load(pickle_file)"
   ]
  },
  {
   "cell_type": "code",
   "execution_count": 139,
   "id": "rough-thanksgiving",
   "metadata": {},
   "outputs": [
    {
     "name": "stdout",
     "output_type": "stream",
     "text": [
      "Fitting 5 folds for each of 25 candidates, totalling 125 fits\n",
      "[CV 1/5] END .....................C=0.1, gamma=1, kernel=rbf; total time=   2.0s\n",
      "[CV 2/5] END .....................C=0.1, gamma=1, kernel=rbf; total time=   2.2s\n",
      "[CV 3/5] END .....................C=0.1, gamma=1, kernel=rbf; total time=   2.0s\n",
      "[CV 4/5] END .....................C=0.1, gamma=1, kernel=rbf; total time=   2.2s\n",
      "[CV 5/5] END .....................C=0.1, gamma=1, kernel=rbf; total time=   2.0s\n",
      "[CV 1/5] END ...................C=0.1, gamma=0.1, kernel=rbf; total time=   1.6s\n",
      "[CV 2/5] END ...................C=0.1, gamma=0.1, kernel=rbf; total time=   1.9s\n",
      "[CV 3/5] END ...................C=0.1, gamma=0.1, kernel=rbf; total time=   1.6s\n",
      "[CV 4/5] END ...................C=0.1, gamma=0.1, kernel=rbf; total time=   1.8s\n",
      "[CV 5/5] END ...................C=0.1, gamma=0.1, kernel=rbf; total time=   1.9s\n",
      "[CV 1/5] END ..................C=0.1, gamma=0.01, kernel=rbf; total time=   1.8s\n",
      "[CV 2/5] END ..................C=0.1, gamma=0.01, kernel=rbf; total time=   2.0s\n",
      "[CV 3/5] END ..................C=0.1, gamma=0.01, kernel=rbf; total time=   1.8s\n",
      "[CV 4/5] END ..................C=0.1, gamma=0.01, kernel=rbf; total time=   1.9s\n",
      "[CV 5/5] END ..................C=0.1, gamma=0.01, kernel=rbf; total time=   2.0s\n",
      "[CV 1/5] END .................C=0.1, gamma=0.001, kernel=rbf; total time=   1.5s\n",
      "[CV 2/5] END .................C=0.1, gamma=0.001, kernel=rbf; total time=   1.5s\n",
      "[CV 3/5] END .................C=0.1, gamma=0.001, kernel=rbf; total time=   1.7s\n",
      "[CV 4/5] END .................C=0.1, gamma=0.001, kernel=rbf; total time=   1.6s\n",
      "[CV 5/5] END .................C=0.1, gamma=0.001, kernel=rbf; total time=   1.5s\n",
      "[CV 1/5] END ................C=0.1, gamma=0.0001, kernel=rbf; total time=   1.7s\n",
      "[CV 2/5] END ................C=0.1, gamma=0.0001, kernel=rbf; total time=   1.5s\n",
      "[CV 3/5] END ................C=0.1, gamma=0.0001, kernel=rbf; total time=   1.5s\n",
      "[CV 4/5] END ................C=0.1, gamma=0.0001, kernel=rbf; total time=   1.6s\n",
      "[CV 5/5] END ................C=0.1, gamma=0.0001, kernel=rbf; total time=   1.8s\n",
      "[CV 1/5] END .......................C=1, gamma=1, kernel=rbf; total time=   2.2s\n",
      "[CV 2/5] END .......................C=1, gamma=1, kernel=rbf; total time=   2.4s\n",
      "[CV 3/5] END .......................C=1, gamma=1, kernel=rbf; total time=   2.4s\n",
      "[CV 4/5] END .......................C=1, gamma=1, kernel=rbf; total time=   2.4s\n",
      "[CV 5/5] END .......................C=1, gamma=1, kernel=rbf; total time=   2.4s\n",
      "[CV 1/5] END .....................C=1, gamma=0.1, kernel=rbf; total time=   2.0s\n",
      "[CV 2/5] END .....................C=1, gamma=0.1, kernel=rbf; total time=   1.9s\n",
      "[CV 3/5] END .....................C=1, gamma=0.1, kernel=rbf; total time=   1.8s\n",
      "[CV 4/5] END .....................C=1, gamma=0.1, kernel=rbf; total time=   2.0s\n",
      "[CV 5/5] END .....................C=1, gamma=0.1, kernel=rbf; total time=   1.8s\n",
      "[CV 1/5] END ....................C=1, gamma=0.01, kernel=rbf; total time=   2.0s\n",
      "[CV 2/5] END ....................C=1, gamma=0.01, kernel=rbf; total time=   2.0s\n",
      "[CV 3/5] END ....................C=1, gamma=0.01, kernel=rbf; total time=   1.7s\n",
      "[CV 4/5] END ....................C=1, gamma=0.01, kernel=rbf; total time=   1.8s\n",
      "[CV 5/5] END ....................C=1, gamma=0.01, kernel=rbf; total time=   2.3s\n",
      "[CV 1/5] END ...................C=1, gamma=0.001, kernel=rbf; total time=   1.7s\n",
      "[CV 2/5] END ...................C=1, gamma=0.001, kernel=rbf; total time=   1.7s\n",
      "[CV 3/5] END ...................C=1, gamma=0.001, kernel=rbf; total time=   2.1s\n",
      "[CV 4/5] END ...................C=1, gamma=0.001, kernel=rbf; total time=   1.8s\n",
      "[CV 5/5] END ...................C=1, gamma=0.001, kernel=rbf; total time=   2.1s\n",
      "[CV 1/5] END ..................C=1, gamma=0.0001, kernel=rbf; total time=   1.5s\n",
      "[CV 2/5] END ..................C=1, gamma=0.0001, kernel=rbf; total time=   1.4s\n",
      "[CV 3/5] END ..................C=1, gamma=0.0001, kernel=rbf; total time=   1.4s\n",
      "[CV 4/5] END ..................C=1, gamma=0.0001, kernel=rbf; total time=   1.7s\n",
      "[CV 5/5] END ..................C=1, gamma=0.0001, kernel=rbf; total time=   1.4s\n",
      "[CV 1/5] END ......................C=10, gamma=1, kernel=rbf; total time=   2.2s\n",
      "[CV 2/5] END ......................C=10, gamma=1, kernel=rbf; total time=   2.5s\n",
      "[CV 3/5] END ......................C=10, gamma=1, kernel=rbf; total time=   2.3s\n",
      "[CV 4/5] END ......................C=10, gamma=1, kernel=rbf; total time=   2.8s\n",
      "[CV 5/5] END ......................C=10, gamma=1, kernel=rbf; total time=   2.6s\n",
      "[CV 1/5] END ....................C=10, gamma=0.1, kernel=rbf; total time=   2.3s\n",
      "[CV 2/5] END ....................C=10, gamma=0.1, kernel=rbf; total time=   2.3s\n",
      "[CV 3/5] END ....................C=10, gamma=0.1, kernel=rbf; total time=   2.4s\n",
      "[CV 4/5] END ....................C=10, gamma=0.1, kernel=rbf; total time=   2.2s\n",
      "[CV 5/5] END ....................C=10, gamma=0.1, kernel=rbf; total time=   1.9s\n",
      "[CV 1/5] END ...................C=10, gamma=0.01, kernel=rbf; total time=   1.8s\n",
      "[CV 2/5] END ...................C=10, gamma=0.01, kernel=rbf; total time=   1.6s\n",
      "[CV 3/5] END ...................C=10, gamma=0.01, kernel=rbf; total time=   1.8s\n",
      "[CV 4/5] END ...................C=10, gamma=0.01, kernel=rbf; total time=   1.7s\n",
      "[CV 5/5] END ...................C=10, gamma=0.01, kernel=rbf; total time=   1.7s\n",
      "[CV 1/5] END ..................C=10, gamma=0.001, kernel=rbf; total time=   1.7s\n",
      "[CV 2/5] END ..................C=10, gamma=0.001, kernel=rbf; total time=   1.6s\n",
      "[CV 3/5] END ..................C=10, gamma=0.001, kernel=rbf; total time=   1.6s\n",
      "[CV 4/5] END ..................C=10, gamma=0.001, kernel=rbf; total time=   1.7s\n",
      "[CV 5/5] END ..................C=10, gamma=0.001, kernel=rbf; total time=   1.7s\n",
      "[CV 1/5] END .................C=10, gamma=0.0001, kernel=rbf; total time=   1.5s\n",
      "[CV 2/5] END .................C=10, gamma=0.0001, kernel=rbf; total time=   1.5s\n",
      "[CV 3/5] END .................C=10, gamma=0.0001, kernel=rbf; total time=   1.7s\n",
      "[CV 4/5] END .................C=10, gamma=0.0001, kernel=rbf; total time=   1.4s\n",
      "[CV 5/5] END .................C=10, gamma=0.0001, kernel=rbf; total time=   1.4s\n",
      "[CV 1/5] END .....................C=100, gamma=1, kernel=rbf; total time=   2.5s\n",
      "[CV 2/5] END .....................C=100, gamma=1, kernel=rbf; total time=   2.1s\n",
      "[CV 3/5] END .....................C=100, gamma=1, kernel=rbf; total time=   2.4s\n",
      "[CV 4/5] END .....................C=100, gamma=1, kernel=rbf; total time=   2.1s\n",
      "[CV 5/5] END .....................C=100, gamma=1, kernel=rbf; total time=   2.4s\n",
      "[CV 1/5] END ...................C=100, gamma=0.1, kernel=rbf; total time=   1.6s\n",
      "[CV 2/5] END ...................C=100, gamma=0.1, kernel=rbf; total time=   1.5s\n",
      "[CV 3/5] END ...................C=100, gamma=0.1, kernel=rbf; total time=   1.8s\n",
      "[CV 4/5] END ...................C=100, gamma=0.1, kernel=rbf; total time=   1.6s\n",
      "[CV 5/5] END ...................C=100, gamma=0.1, kernel=rbf; total time=   1.6s\n",
      "[CV 1/5] END ..................C=100, gamma=0.01, kernel=rbf; total time=   1.9s\n",
      "[CV 2/5] END ..................C=100, gamma=0.01, kernel=rbf; total time=   1.8s\n",
      "[CV 3/5] END ..................C=100, gamma=0.01, kernel=rbf; total time=   1.7s\n",
      "[CV 4/5] END ..................C=100, gamma=0.01, kernel=rbf; total time=   1.9s\n",
      "[CV 5/5] END ..................C=100, gamma=0.01, kernel=rbf; total time=   1.7s\n",
      "[CV 1/5] END .................C=100, gamma=0.001, kernel=rbf; total time=   1.6s\n",
      "[CV 2/5] END .................C=100, gamma=0.001, kernel=rbf; total time=   1.8s\n",
      "[CV 3/5] END .................C=100, gamma=0.001, kernel=rbf; total time=   1.5s\n",
      "[CV 4/5] END .................C=100, gamma=0.001, kernel=rbf; total time=   1.5s\n",
      "[CV 5/5] END .................C=100, gamma=0.001, kernel=rbf; total time=   1.8s\n",
      "[CV 1/5] END ................C=100, gamma=0.0001, kernel=rbf; total time=   2.7s\n",
      "[CV 2/5] END ................C=100, gamma=0.0001, kernel=rbf; total time=   2.8s\n",
      "[CV 3/5] END ................C=100, gamma=0.0001, kernel=rbf; total time=   2.5s\n",
      "[CV 4/5] END ................C=100, gamma=0.0001, kernel=rbf; total time=   2.8s\n",
      "[CV 5/5] END ................C=100, gamma=0.0001, kernel=rbf; total time=   2.6s\n",
      "[CV 1/5] END ....................C=1000, gamma=1, kernel=rbf; total time=   2.4s\n"
     ]
    },
    {
     "name": "stdout",
     "output_type": "stream",
     "text": [
      "[CV 2/5] END ....................C=1000, gamma=1, kernel=rbf; total time=   2.1s\n",
      "[CV 3/5] END ....................C=1000, gamma=1, kernel=rbf; total time=   2.3s\n",
      "[CV 4/5] END ....................C=1000, gamma=1, kernel=rbf; total time=   2.2s\n",
      "[CV 5/5] END ....................C=1000, gamma=1, kernel=rbf; total time=   2.2s\n",
      "[CV 1/5] END ..................C=1000, gamma=0.1, kernel=rbf; total time=   1.8s\n",
      "[CV 2/5] END ..................C=1000, gamma=0.1, kernel=rbf; total time=   1.6s\n",
      "[CV 3/5] END ..................C=1000, gamma=0.1, kernel=rbf; total time=   1.7s\n",
      "[CV 4/5] END ..................C=1000, gamma=0.1, kernel=rbf; total time=   1.8s\n",
      "[CV 5/5] END ..................C=1000, gamma=0.1, kernel=rbf; total time=   1.6s\n",
      "[CV 1/5] END .................C=1000, gamma=0.01, kernel=rbf; total time=   1.7s\n",
      "[CV 2/5] END .................C=1000, gamma=0.01, kernel=rbf; total time=   1.8s\n",
      "[CV 3/5] END .................C=1000, gamma=0.01, kernel=rbf; total time=   1.6s\n",
      "[CV 4/5] END .................C=1000, gamma=0.01, kernel=rbf; total time=   1.6s\n",
      "[CV 5/5] END .................C=1000, gamma=0.01, kernel=rbf; total time=   1.8s\n",
      "[CV 1/5] END ................C=1000, gamma=0.001, kernel=rbf; total time=   1.6s\n",
      "[CV 2/5] END ................C=1000, gamma=0.001, kernel=rbf; total time=   1.7s\n",
      "[CV 3/5] END ................C=1000, gamma=0.001, kernel=rbf; total time=   2.0s\n",
      "[CV 4/5] END ................C=1000, gamma=0.001, kernel=rbf; total time=   1.6s\n",
      "[CV 5/5] END ................C=1000, gamma=0.001, kernel=rbf; total time=   1.7s\n",
      "[CV 1/5] END ...............C=1000, gamma=0.0001, kernel=rbf; total time=   3.1s\n",
      "[CV 2/5] END ...............C=1000, gamma=0.0001, kernel=rbf; total time=   3.3s\n",
      "[CV 3/5] END ...............C=1000, gamma=0.0001, kernel=rbf; total time=   2.9s\n",
      "[CV 4/5] END ...............C=1000, gamma=0.0001, kernel=rbf; total time=   3.1s\n",
      "[CV 5/5] END ...............C=1000, gamma=0.0001, kernel=rbf; total time=   2.9s\n"
     ]
    },
    {
     "data": {
      "text/plain": [
       "GridSearchCV(estimator=SVC(),\n",
       "             param_grid={'C': [0.1, 1, 10, 100, 1000],\n",
       "                         'gamma': [1, 0.1, 0.01, 0.001, 0.0001],\n",
       "                         'kernel': ['rbf']},\n",
       "             verbose=3)"
      ]
     },
     "execution_count": 139,
     "metadata": {},
     "output_type": "execute_result"
    }
   ],
   "source": [
    "# GridSearchCV\n",
    "\n",
    "param_grid = {'C': [0.1, 1, 10, 100, 1000], \n",
    "              'gamma': [1, 0.1, 0.01, 0.001, 0.0001],\n",
    "              'kernel': ['rbf']} \n",
    "grid = GridSearchCV(SVC(), param_grid, verbose = 3)\n",
    "grid.fit(X_train, y_train)"
   ]
  },
  {
   "cell_type": "code",
   "execution_count": 178,
   "id": "double-jason",
   "metadata": {},
   "outputs": [
    {
     "name": "stdout",
     "output_type": "stream",
     "text": [
      "SVC(C=10, gamma=0.0001)\n"
     ]
    }
   ],
   "source": [
    "print(grid.best_estimator_)"
   ]
  },
  {
   "cell_type": "code",
   "execution_count": 183,
   "id": "bulgarian-manufacturer",
   "metadata": {},
   "outputs": [],
   "source": [
    "svm = SVC(C=10, gamma=0.0001)\n",
    "svm = svm.fit(X_train, y_train)"
   ]
  },
  {
   "cell_type": "code",
   "execution_count": 179,
   "id": "upset-lightning",
   "metadata": {},
   "outputs": [],
   "source": [
    "Scores = cross_val_score(SVC(C=10, gamma=0.0001), X_train, y_train)"
   ]
  },
  {
   "cell_type": "code",
   "execution_count": 180,
   "id": "gentle-locator",
   "metadata": {},
   "outputs": [
    {
     "data": {
      "text/plain": [
       "(0.6412500000000001, 0.007416198487095695)"
      ]
     },
     "execution_count": 180,
     "metadata": {},
     "output_type": "execute_result"
    }
   ],
   "source": [
    "Scores.mean(), Scores.std()"
   ]
  },
  {
   "cell_type": "code",
   "execution_count": 184,
   "id": "adjacent-experiment",
   "metadata": {},
   "outputs": [
    {
     "name": "stdout",
     "output_type": "stream",
     "text": [
      "              precision    recall  f1-score   support\n",
      "\n",
      "           0       0.81      0.75      0.78      1838\n",
      "           1       0.80      0.85      0.83      2162\n",
      "\n",
      "    accuracy                           0.81      4000\n",
      "   macro avg       0.81      0.80      0.80      4000\n",
      "weighted avg       0.81      0.81      0.81      4000\n",
      "\n"
     ]
    }
   ],
   "source": [
    "predictions = svm.predict(X_train)\n",
    "print(classification_report(y_train, predictions))"
   ]
  }
 ],
 "metadata": {
  "kernelspec": {
   "display_name": "Python 3",
   "language": "python",
   "name": "python3"
  },
  "language_info": {
   "codemirror_mode": {
    "name": "ipython",
    "version": 3
   },
   "file_extension": ".py",
   "mimetype": "text/x-python",
   "name": "python",
   "nbconvert_exporter": "python",
   "pygments_lexer": "ipython3",
   "version": "3.7.6"
  }
 },
 "nbformat": 4,
 "nbformat_minor": 5
}
